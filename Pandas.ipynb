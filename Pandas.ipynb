{
  "nbformat": 4,
  "nbformat_minor": 0,
  "metadata": {
    "colab": {
      "provenance": [],
      "authorship_tag": "ABX9TyNPf56SZ2JvG7z//eePxHWP",
      "include_colab_link": true
    },
    "kernelspec": {
      "name": "python3",
      "display_name": "Python 3"
    },
    "language_info": {
      "name": "python"
    }
  },
  "cells": [
    {
      "cell_type": "markdown",
      "metadata": {
        "id": "view-in-github",
        "colab_type": "text"
      },
      "source": [
        "<a href=\"https://colab.research.google.com/github/RaTon84/Pandas/blob/main/Pandas.ipynb\" target=\"_parent\"><img src=\"https://colab.research.google.com/assets/colab-badge.svg\" alt=\"Open In Colab\"/></a>"
      ]
    },
    {
      "cell_type": "markdown",
      "source": [
        "# Ejercicio 2\n",
        "Escribir una función que reciba un diccionario con las notas de los alumno de un curso y devuelva una serie con la nota mínima, la máxima, media y la desviación típica."
      ],
      "metadata": {
        "id": "56CRo_nQGgRb"
      }
    },
    {
      "cell_type": "code",
      "execution_count": 29,
      "metadata": {
        "colab": {
          "base_uri": "https://localhost:8080/"
        },
        "id": "eINV1uOuGYs_",
        "outputId": "5f995c19-2c7b-4f39-c726-6ca9888d8957"
      },
      "outputs": [
        {
          "output_type": "stream",
          "name": "stdout",
          "text": [
            "Nota maxima:     9.0\n",
            "Nota minima:     4.5\n",
            "Promedio:        7.2\n",
            "Desviacion:      1.6\n",
            "Name: ejercicio2, dtype: float64\n"
          ]
        }
      ],
      "source": [
        "import pandas as pd\n",
        "import numpy as np\n",
        "\n",
        "notasDelosAlumnos = {\n",
        "    \"Ana\": 7.5,\n",
        "    \"Juana\": 4.5,\n",
        "    \"Hernan\": 8.5,\n",
        "    \"Juan\": 9.0,\n",
        "    \"Carlos\": 6.5\n",
        "    }\n",
        "\n",
        "def serieNotas(dicc):\n",
        "  pandaNotas = pd.Series(notasDelosAlumnos, name=\"ejercicio2\")\n",
        "\n",
        "  response = pd.Series({\"Nota maxima: \":max(pandaNotas.values),\n",
        "                        \"Nota minima: \": min(pandaNotas.values),\n",
        "                        \"Promedio: \": sum(pandaNotas.values) / pandaNotas.size,\n",
        "                        \"Desviacion: \": np.std(pandaNotas.values)\n",
        "                        },\n",
        "                       name = \"ejercicio2\")\n",
        "  print(response)\n",
        "\n",
        "serieNotas(notasDelosAlumnos)\n",
        "\n",
        "#\n",
        "# print(pandaNotas)\n",
        "  # print(pandaNotas.index) # retorna la key del diccionario\n",
        "\n",
        "  # print(pandaNotas.values) # retorna los valores\n",
        "\n",
        "  # print(pandaNotas.size)\n",
        "  # print(\"Nota Maxima: \", max(pandaNotas.values))\n",
        "  # print(\"Nota Minima: \", min(pandaNotas.values))\n",
        "  # print(\"Nota Promedio: \", sum(pandaNotas) / pandaNotas.size)\n",
        "  # print(\"La desviacion tipica: \", np.std(pandaNotas.values))"
      ]
    },
    {
      "cell_type": "code",
      "source": [],
      "metadata": {
        "id": "xJ8q0kn9VZ_J"
      },
      "execution_count": null,
      "outputs": []
    }
  ]
}